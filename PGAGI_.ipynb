{
 "cells": [
  {
   "cell_type": "code",
   "execution_count": 7,
   "id": "334e263d",
   "metadata": {},
   "outputs": [
    {
     "name": "stdout",
     "output_type": "stream",
     "text": [
      "(1001, 'David Wilson', '2023-01-01', 193.9875582, 'Pending', 'Consultation', 'Pediatrics')\n",
      "(1002, 'Alice Johnson', '2023-01-02', 370.6560205, 'Pending', 'Purchase', 'Orthopedics')\n",
      "(1003, 'Sophia Garcia', '2023-01-03', 233.0194861, 'Pending', 'Lab Test', 'Pharmacy')\n",
      "(1004, 'Olivia Davis', '2023-01-04', 296.1207247, 'Paid', 'Follow-up', 'Pharmacy')\n",
      "(1005, 'David Wilson', '2023-01-05', 294.6547636, 'Paid', 'Therapy', 'ENT')\n"
     ]
    }
   ],
   "source": [
    "import pandas as pd\n",
    "import sqlite3\n",
    "from sqlalchemy import create_engine\n",
    "\n",
    "# Load the cleaned and validated dataset\n",
    "file_path = 'C:/Users/khush/Documents/PGAGI/Dataset.csv'  # Updated path format for Windows\n",
    "df = pd.read_csv(file_path)\n",
    "\n",
    "# Create a connection to the SQLite database\n",
    "engine = create_engine('sqlite:///billing_data.db')\n",
    "\n",
    "# Insert data into the database\n",
    "df.to_sql('billing_data', con=engine, if_exists='replace', index=False)\n",
    "\n",
    "# Verify the data has been inserted\n",
    "with engine.connect() as connection:\n",
    "    result = connection.execute(\"SELECT * FROM billing_data LIMIT 5\")\n",
    "    for row in result:\n",
    "        print(row)\n"
   ]
  },
  {
   "cell_type": "code",
   "execution_count": 8,
   "id": "33b3e86a",
   "metadata": {},
   "outputs": [
    {
     "name": "stdout",
     "output_type": "stream",
     "text": [
      "   Account ID  Customer Name Billing Date      Amount   Status   Description  \\\n",
      "0        1001   David Wilson   2023-01-01  193.987558  Pending  Consultation   \n",
      "1        1002  Alice Johnson   2023-01-02  370.656021  Pending      Purchase   \n",
      "2        1003  Sophia Garcia   2023-01-03  233.019486  Pending      Lab Test   \n",
      "3        1004   Olivia Davis   2023-01-04  296.120725     Paid     Follow-up   \n",
      "4        1005   David Wilson   2023-01-05  294.654764     Paid       Therapy   \n",
      "\n",
      "    Department  \n",
      "0   Pediatrics  \n",
      "1  Orthopedics  \n",
      "2     Pharmacy  \n",
      "3     Pharmacy  \n",
      "4          ENT  \n"
     ]
    }
   ],
   "source": [
    "# Data analysis(Billing Analysis)\n",
    "with engine.connect() as connection:\n",
    "    result = pd.read_sql(\"SELECT * FROM billing_data\", con=connection)\n",
    "\n",
    "# Perform analysis on the queried data\n",
    "print(result.head())\n"
   ]
  },
  {
   "cell_type": "code",
   "execution_count": 9,
   "id": "8b07f975",
   "metadata": {},
   "outputs": [],
   "source": [
    "import pandas as pd\n",
    "from sqlalchemy import create_engine\n",
    "\n",
    "# Create a connection to the SQLite database\n",
    "engine = create_engine('sqlite:///billing_data.db')\n"
   ]
  },
  {
   "cell_type": "code",
   "execution_count": 10,
   "id": "84cec54a",
   "metadata": {},
   "outputs": [
    {
     "name": "stdout",
     "output_type": "stream",
     "text": [
      "(1001, 'David Wilson', '2023-01-01', 193.9875582, 'Pending', 'Consultation', 'Pediatrics')\n",
      "(1002, 'Alice Johnson', '2023-01-02', 370.6560205, 'Pending', 'Purchase', 'Orthopedics')\n",
      "(1003, 'Sophia Garcia', '2023-01-03', 233.0194861, 'Pending', 'Lab Test', 'Pharmacy')\n",
      "(1004, 'Olivia Davis', '2023-01-04', 296.1207247, 'Paid', 'Follow-up', 'Pharmacy')\n",
      "(1005, 'David Wilson', '2023-01-05', 294.6547636, 'Paid', 'Therapy', 'ENT')\n"
     ]
    }
   ],
   "source": [
    "# Load the cleaned and validated dataset\n",
    "file_path = 'C:/Users/khush/Documents/PGAGI/Dataset.csv'  # Updated path format for Windows\n",
    "df = pd.read_csv(file_path)\n",
    "\n",
    "# Insert data into the database\n",
    "df.to_sql('billing_data', con=engine, if_exists='replace', index=False)\n",
    "\n",
    "# Verify the data has been inserted\n",
    "with engine.connect() as connection:\n",
    "    result = connection.execute(\"SELECT * FROM billing_data LIMIT 5\")\n",
    "    for row in result:\n",
    "        print(row)\n"
   ]
  },
  {
   "cell_type": "code",
   "execution_count": 11,
   "id": "5d4b465e",
   "metadata": {},
   "outputs": [
    {
     "name": "stdout",
     "output_type": "stream",
     "text": [
      "   Account ID  Customer Name Billing Date      Amount   Status   Description  \\\n",
      "0        1001   David Wilson   2023-01-01  193.987558  Pending  Consultation   \n",
      "1        1002  Alice Johnson   2023-01-02  370.656021  Pending      Purchase   \n",
      "2        1003  Sophia Garcia   2023-01-03  233.019486  Pending      Lab Test   \n",
      "3        1004   Olivia Davis   2023-01-04  296.120725     Paid     Follow-up   \n",
      "4        1005   David Wilson   2023-01-05  294.654764     Paid       Therapy   \n",
      "\n",
      "    Department  \n",
      "0   Pediatrics  \n",
      "1  Orthopedics  \n",
      "2     Pharmacy  \n",
      "3     Pharmacy  \n",
      "4          ENT  \n"
     ]
    }
   ],
   "source": [
    "# Query analysis\n",
    "with engine.connect() as connection:\n",
    "    result = pd.read_sql(\"SELECT * FROM billing_data\", con=connection)\n",
    "\n",
    "# Analysis on the queried data\n",
    "print(result.head())\n"
   ]
  },
  {
   "cell_type": "code",
   "execution_count": 12,
   "id": "36ef2dce",
   "metadata": {},
   "outputs": [
    {
     "name": "stdout",
     "output_type": "stream",
     "text": [
      "Account ID                int64\n",
      "Customer Name            object\n",
      "Billing Date     datetime64[ns]\n",
      "Amount                  float64\n",
      "Status                   object\n",
      "Description              object\n",
      "Department               object\n",
      "dtype: object\n",
      "   Account ID  Customer Name Billing Date      Amount   Status   Description  \\\n",
      "0        1001   David Wilson   2023-01-01  193.987558  pending  Consultation   \n",
      "1        1002  Alice Johnson   2023-01-02  370.656021  pending      Purchase   \n",
      "2        1003  Sophia Garcia   2023-01-03  233.019486  pending      Lab Test   \n",
      "3        1004   Olivia Davis   2023-01-04  296.120725     paid     Follow-up   \n",
      "4        1005   David Wilson   2023-01-05  294.654764     paid       Therapy   \n",
      "\n",
      "    Department  \n",
      "0   pediatrics  \n",
      "1  orthopedics  \n",
      "2     pharmacy  \n",
      "3     pharmacy  \n",
      "4          ent  \n",
      "Account ID         int64\n",
      "Customer Name     object\n",
      "Billing Date      object\n",
      "Amount           float64\n",
      "Status            object\n",
      "Description       object\n",
      "Department        object\n",
      "dtype: object\n"
     ]
    },
    {
     "data": {
      "image/png": "[encoded data removed]",
      "text/plain": [
       "<Figure size 1000x600 with 1 Axes>"
      ]
     },
     "metadata": {},
     "output_type": "display_data"
    }
   ],
   "source": [
    "import pandas as pd\n",
    "from sqlalchemy import create_engine\n",
    "import matplotlib.pyplot as plt\n",
    "import seaborn as sns\n",
    "\n",
    "# Load the dataset\n",
    "file_path = 'C:/Users/khush/Documents/PGAGI/Dataset.csv'  \n",
    "df = pd.read_csv(file_path)\n",
    "\n",
    "# Data Cleaning\n",
    "df = df.dropna()\n",
    "\n",
    "# Ensure 'Billing Date' is in datetime format\n",
    "df['Billing Date'] = pd.to_datetime(df['Billing Date'], errors='coerce')\n",
    "\n",
    "# Check for any remaining invalid dates and handle them\n",
    "if df['Billing Date'].isnull().any():\n",
    "    print(\"Invalid dates found, removing rows with invalid dates.\")\n",
    "    df = df[df['Billing Date'].notnull()]\n",
    "\n",
    "# Debugging print to check the data types\n",
    "print(df.dtypes)\n",
    "\n",
    "df['Status'] = df['Status'].str.lower()\n",
    "df['Department'] = df['Department'].str.lower()\n",
    "df = df.drop_duplicates()\n",
    "\n",
    "# Ensure 'Amount' is numeric\n",
    "df['Amount'] = pd.to_numeric(df['Amount'], errors='coerce')\n",
    "assert (df['Amount'] > 0).all()\n",
    "\n",
    "# Debugging print to check the data after cleaning\n",
    "print(df.head())\n",
    "\n",
    "# Connect to the SQLite database\n",
    "engine = create_engine('sqlite:///billing_data.db')\n",
    "\n",
    "# Insert cleaned data into the database\n",
    "df.to_sql('billing_data', con=engine, if_exists='replace', index=False)\n",
    "\n",
    "# Query data for analysis\n",
    "with engine.connect() as connection:\n",
    "    billing_data = pd.read_sql(\"SELECT * FROM billing_data\", con=connection)\n",
    "\n",
    "# Debugging print to check the data types in the queried data\n",
    "print(billing_data.dtypes)\n",
    "\n",
    "# Ensure 'Billing Date' in the queried data is in datetime format\n",
    "billing_data['Billing Date'] = pd.to_datetime(billing_data['Billing Date'], errors='coerce')\n",
    "\n",
    "# Billing Analysis\n",
    "billing_data['Cycle Time'] = (billing_data['Billing Date'].max() - billing_data['Billing Date']).dt.days\n",
    "billing_data['Payment Discrepancy'] = billing_data['Amount'].diff().abs()\n",
    "average_payment = billing_data['Amount'].mean()\n",
    "outliers = billing_data[billing_data['Amount'] > (average_payment + 3 * billing_data['Amount'].std())]\n",
    "\n",
    "# Generate Visualizations\n",
    "plt.figure(figsize=(10, 6))\n",
    "sns.histplot(billing_data['Amount'], bins=30)\n",
    "plt.title('Distribution of Billing Amounts')\n",
    "plt.xlabel('Amount')\n",
    "plt.ylabel('Frequency')\n",
    "plt.show()\n",
    "\n",
    "# Save the report summary (Pseudo-code for LLM usage)\n",
    "report_summary = f\"\"\"\n",
    "Average Payment Amount: {average_payment}\n",
    "Outliers: {outliers}\n",
    "\"\"\"\n",
    "\n",
    "with open('billing_report.txt', 'w') as file:\n",
    "    file.write(report_summary)\n"
   ]
  },
  {
   "cell_type": "code",
   "execution_count": null,
   "id": "9984193b",
   "metadata": {},
   "outputs": [],
   "source": []
  }
 ],
 "metadata": {
  "kernelspec": {
   "display_name": "Python 3 (ipykernel)",
   "language": "python",
   "name": "python3"
  },
  "language_info": {
   "codemirror_mode": {
    "name": "ipython",
    "version": 3
   },
   "file_extension": ".py",
   "mimetype": "text/x-python",
   "name": "python",
   "nbconvert_exporter": "python",
   "pygments_lexer": "ipython3",
   "version": "3.11.3"
  }
 },
 "nbformat": 4,
 "nbformat_minor": 5
}
